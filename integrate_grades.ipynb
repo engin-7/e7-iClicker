{
 "cells": [
  {
   "cell_type": "code",
   "execution_count": null,
   "id": "90295599-1e9b-4ac4-ac25-0e66817b438c",
   "metadata": {},
   "outputs": [],
   "source": [
    "import numpy as np\n",
    "import pandas as pd\n",
    "import re, os\n",
    "from pathlib import Path\n",
    "\n",
    "# Eliminate any updated_* in the cwd\n",
    "deleted_files = [p.unlink() for p in Path.cwd().glob('updated_*') if p.is_file()]\n",
    "\n",
    "print(f\"Done! Deleted {len(deleted_files)} file(s).\")\n",
    "\n",
    "all_files = os.listdir()\n",
    "    bcourse = '.*_Grades-ENGIN_7.csv'\n",
    "iclicker = 'iClicker_GradesExport_Canvas_.*.csv'\n",
    "\n",
    "for i in all_files:\n",
    "\tif re.match(bcourse, i):\n",
    "\t\tbcourse = i\n",
    "\tif re.match(iclicker, i):\n",
    "\t\ticlicker = i\n",
    "\n",
    "ic = pd.read_csv(iclicker)\n",
    "bc = pd.read_csv(bcourse)\n",
    "new_bc = bc.copy()\n",
    "\n",
    "def poll_name():\n",
    "\tsearch_type = [i for i in ic.columns if re.match('Class \\d+ - Poll', i)][0]\n",
    "\treturn [i for i in bc.columns if re.match(search_type+' .*', i)][0]\n",
    "\n",
    "for i in bc.iterrows():\n",
    "\tstu = ic[ic['SIS User ID'] == i[1]['SIS User ID']]; total_score = 0 # Start sum of the total_score\n",
    "\tif (stu['Student'].values.size > 0) and (stu['Current Score'].values.size > 0):\n",
    "\t\t# if stu['Student'].values[0]!=i[1]['Student']:\n",
    "\t\t# \tprint(stu['Student'].values[0], i[1]['Student'])\n",
    "\t\tpoll_num = list(i[1].index).index([j for j in i[1].index if poll_name() in j][0])\n",
    "\t\tmax_score = max(float(stu['Current Score'].values[0]), i[1][poll_num]);total_score +=max_score # Sum the total\n",
    "\t\tprint(i[1]['Student'], max_score)\n",
    "\t\tidx = new_bc[new_bc['SIS User ID'] == i[1]['SIS User ID']].index\n",
    "\t\tnew_bc.at[idx.values[0], poll_name()] = str(max_score); new_bc.at[idx.values[0], 'Final Score'] = str(total_score)\n",
    "\t\tprint('Previous', i[1][poll_num])\n",
    "\t\tprint('updated', new_bc[new_bc['SIS User ID'] == i[1]['SIS User ID']][poll_name()]); print('updated', new_bc[new_bc['SIS User ID'] == i[1]['SIS User ID']]['Final Score'])\n",
    "u = list(new_bc.columns[:5])+[poll_name(), \"Final Score\"]\n",
    "new_bc[u].to_csv('updated_'+bcourse, encoding='utf-8-sig', index=False)"
   ]
  },
  {
   "cell_type": "code",
   "execution_count": null,
   "id": "366b9882-9d05-42db-8925-1904d2e3070e",
   "metadata": {},
   "outputs": [],
   "source": []
  }
 ],
 "metadata": {
  "kernelspec": {
   "display_name": "Python 3 (ipykernel)",
   "language": "python",
   "name": "python3"
  },
  "language_info": {
   "codemirror_mode": {
    "name": "ipython",
    "version": 3
   },
   "file_extension": ".py",
   "mimetype": "text/x-python",
   "name": "python",
   "nbconvert_exporter": "python",
   "pygments_lexer": "ipython3",
   "version": "3.11.13"
  }
 },
 "nbformat": 4,
 "nbformat_minor": 5
}
